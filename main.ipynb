{
 "cells": [
  {
   "cell_type": "code",
   "execution_count": 281,
   "id": "21bf6745",
   "metadata": {},
   "outputs": [],
   "source": [
    "import numpy as np\n",
    "import pandas as pd\n",
    "import seaborn as sns\n",
    "\n",
    "from sklearn.model_selection import train_test_split\n",
    "from sklearn.linear_model import LinearRegression\n",
    "from sklearn.metrics import mean_absolute_error, mean_squared_error\n",
    "from sklearn.preprocessing import StandardScaler, MinMaxScaler\n",
    "\n",
    "RANDOM_STATE = 1"
   ]
  },
  {
   "cell_type": "code",
   "execution_count": 248,
   "id": "6f136d4d",
   "metadata": {},
   "outputs": [
    {
     "data": {
      "text/html": [
       "<div>\n",
       "<style scoped>\n",
       "    .dataframe tbody tr th:only-of-type {\n",
       "        vertical-align: middle;\n",
       "    }\n",
       "\n",
       "    .dataframe tbody tr th {\n",
       "        vertical-align: top;\n",
       "    }\n",
       "\n",
       "    .dataframe thead th {\n",
       "        text-align: right;\n",
       "    }\n",
       "</style>\n",
       "<table border=\"1\" class=\"dataframe\">\n",
       "  <thead>\n",
       "    <tr style=\"text-align: right;\">\n",
       "      <th></th>\n",
       "      <th>Year</th>\n",
       "      <th>Week</th>\n",
       "      <th>Index</th>\n",
       "      <th>Product</th>\n",
       "      <th>Sales_packs</th>\n",
       "      <th>Sales_UAH</th>\n",
       "      <th>Penetration</th>\n",
       "      <th>Pricer_per_pack</th>\n",
       "      <th>Brand</th>\n",
       "      <th>Aw_MMI</th>\n",
       "      <th>Internet_insertions</th>\n",
       "      <th>Internet_impressions</th>\n",
       "      <th>Internet_real users</th>\n",
       "      <th>TV_TRP</th>\n",
       "      <th>SOV, %</th>\n",
       "      <th>TRP_category</th>\n",
       "    </tr>\n",
       "  </thead>\n",
       "  <tbody>\n",
       "    <tr>\n",
       "      <th>0</th>\n",
       "      <td>2018</td>\n",
       "      <td>1</td>\n",
       "      <td>20181</td>\n",
       "      <td>NIMID®, Kusum Pharm LLC (Ukraine, Kiev), gel f...</td>\n",
       "      <td>12180,38</td>\n",
       "      <td>374227,46</td>\n",
       "      <td>84,31</td>\n",
       "      <td>30,7237918685624</td>\n",
       "      <td>NIMID</td>\n",
       "      <td>NaN</td>\n",
       "      <td>0</td>\n",
       "      <td>NaN</td>\n",
       "      <td>NaN</td>\n",
       "      <td>0</td>\n",
       "      <td>0</td>\n",
       "      <td>728,36</td>\n",
       "    </tr>\n",
       "    <tr>\n",
       "      <th>1</th>\n",
       "      <td>2018</td>\n",
       "      <td>1</td>\n",
       "      <td>20181</td>\n",
       "      <td>FLAMIDASE GEL, Organosyn Life Sciences (India)...</td>\n",
       "      <td>9104,28</td>\n",
       "      <td>598177,21</td>\n",
       "      <td>75,68</td>\n",
       "      <td>65,7028573374281</td>\n",
       "      <td>FLAMIDASE</td>\n",
       "      <td>NaN</td>\n",
       "      <td>0</td>\n",
       "      <td>NaN</td>\n",
       "      <td>NaN</td>\n",
       "      <td>0</td>\n",
       "      <td>0</td>\n",
       "      <td>728,36</td>\n",
       "    </tr>\n",
       "    <tr>\n",
       "      <th>2</th>\n",
       "      <td>2018</td>\n",
       "      <td>1</td>\n",
       "      <td>20181</td>\n",
       "      <td>NIMID®, Kusum Pharm LLC (Ukraine, Kiev), tabs ...</td>\n",
       "      <td>7139,25</td>\n",
       "      <td>943215,62</td>\n",
       "      <td>82</td>\n",
       "      <td>132,116905837448</td>\n",
       "      <td>NIMID</td>\n",
       "      <td>NaN</td>\n",
       "      <td>0</td>\n",
       "      <td>NaN</td>\n",
       "      <td>NaN</td>\n",
       "      <td>0</td>\n",
       "      <td>0</td>\n",
       "      <td>728,36</td>\n",
       "    </tr>\n",
       "    <tr>\n",
       "      <th>3</th>\n",
       "      <td>2018</td>\n",
       "      <td>1</td>\n",
       "      <td>20181</td>\n",
       "      <td>DEEP RELIEF, Delta Medical LLC (Ukraine, Vishn...</td>\n",
       "      <td>6263,29</td>\n",
       "      <td>725660,44</td>\n",
       "      <td>77,45</td>\n",
       "      <td>115,859307169235</td>\n",
       "      <td>DEEP RELIEF</td>\n",
       "      <td>NaN</td>\n",
       "      <td>6</td>\n",
       "      <td>NaN</td>\n",
       "      <td>NaN</td>\n",
       "      <td>0</td>\n",
       "      <td>0</td>\n",
       "      <td>728,36</td>\n",
       "    </tr>\n",
       "    <tr>\n",
       "      <th>4</th>\n",
       "      <td>2018</td>\n",
       "      <td>1</td>\n",
       "      <td>20181</td>\n",
       "      <td>NIMID®, Kusum Pharm LLC (Ukraine, Kiev), gel f...</td>\n",
       "      <td>4886,29</td>\n",
       "      <td>401893,65</td>\n",
       "      <td>70,38</td>\n",
       "      <td>82,2492422676509</td>\n",
       "      <td>NIMID</td>\n",
       "      <td>NaN</td>\n",
       "      <td>0</td>\n",
       "      <td>NaN</td>\n",
       "      <td>NaN</td>\n",
       "      <td>0</td>\n",
       "      <td>0</td>\n",
       "      <td>728,36</td>\n",
       "    </tr>\n",
       "  </tbody>\n",
       "</table>\n",
       "</div>"
      ],
      "text/plain": [
       "   Year  Week  Index                                            Product  \\\n",
       "0  2018     1  20181  NIMID®, Kusum Pharm LLC (Ukraine, Kiev), gel f...   \n",
       "1  2018     1  20181  FLAMIDASE GEL, Organosyn Life Sciences (India)...   \n",
       "2  2018     1  20181  NIMID®, Kusum Pharm LLC (Ukraine, Kiev), tabs ...   \n",
       "3  2018     1  20181  DEEP RELIEF, Delta Medical LLC (Ukraine, Vishn...   \n",
       "4  2018     1  20181  NIMID®, Kusum Pharm LLC (Ukraine, Kiev), gel f...   \n",
       "\n",
       "  Sales_packs  Sales_UAH Penetration   Pricer_per_pack        Brand Aw_MMI  \\\n",
       "0    12180,38  374227,46       84,31  30,7237918685624        NIMID    NaN   \n",
       "1     9104,28  598177,21       75,68  65,7028573374281    FLAMIDASE    NaN   \n",
       "2     7139,25  943215,62          82  132,116905837448        NIMID    NaN   \n",
       "3     6263,29  725660,44       77,45  115,859307169235  DEEP RELIEF    NaN   \n",
       "4     4886,29  401893,65       70,38  82,2492422676509        NIMID    NaN   \n",
       "\n",
       "   Internet_insertions  Internet_impressions  Internet_real users TV_TRP  \\\n",
       "0                    0                   NaN                  NaN      0   \n",
       "1                    0                   NaN                  NaN      0   \n",
       "2                    0                   NaN                  NaN      0   \n",
       "3                    6                   NaN                  NaN      0   \n",
       "4                    0                   NaN                  NaN      0   \n",
       "\n",
       "  SOV, % TRP_category  \n",
       "0      0       728,36  \n",
       "1      0       728,36  \n",
       "2      0       728,36  \n",
       "3      0       728,36  \n",
       "4      0       728,36  "
      ]
     },
     "execution_count": 248,
     "metadata": {},
     "output_type": "execute_result"
    }
   ],
   "source": [
    "df = pd.read_csv('data/category_data.csv', sep=';', thousands='.')\n",
    "df.head()"
   ]
  },
  {
   "cell_type": "code",
   "execution_count": 249,
   "id": "8e47a660",
   "metadata": {},
   "outputs": [
    {
     "name": "stdout",
     "output_type": "stream",
     "text": [
      "Number of data before: 6600\n",
      "Number of data before: 450\n"
     ]
    }
   ],
   "source": [
    "print(f\"Number of data before: {len(df)}\")\n",
    "df = df[df['Brand'] == \"DEEP RELIEF\"]\n",
    "print(f\"Number of data before: {len(df)}\")"
   ]
  },
  {
   "cell_type": "code",
   "execution_count": 257,
   "id": "3c65a9fe",
   "metadata": {},
   "outputs": [
    {
     "name": "stdout",
     "output_type": "stream",
     "text": [
      "<class 'pandas.core.frame.DataFrame'>\n",
      "Int64Index: 450 entries, 3 to 6575\n",
      "Data columns (total 16 columns):\n",
      " #   Column                Non-Null Count  Dtype  \n",
      "---  ------                --------------  -----  \n",
      " 0   Year                  450 non-null    int64  \n",
      " 1   Week                  450 non-null    int64  \n",
      " 2   Index                 450 non-null    int64  \n",
      " 3   Product               450 non-null    object \n",
      " 4   Sales_packs           450 non-null    object \n",
      " 5   Sales_UAH             450 non-null    object \n",
      " 6   Penetration           444 non-null    object \n",
      " 7   Pricer_per_pack       450 non-null    object \n",
      " 8   Brand                 450 non-null    object \n",
      " 9   Aw_MMI                30 non-null     object \n",
      " 10  Internet_insertions   450 non-null    int64  \n",
      " 11  Internet_impressions  0 non-null      float64\n",
      " 12  Internet_real users   0 non-null      float64\n",
      " 13  TV_TRP                450 non-null    object \n",
      " 14  SOV, %                444 non-null    object \n",
      " 15  TRP_category          450 non-null    object \n",
      "dtypes: float64(2), int64(4), object(10)\n",
      "memory usage: 59.8+ KB\n"
     ]
    }
   ],
   "source": [
    "df.info()"
   ]
  },
  {
   "cell_type": "markdown",
   "id": "b53cd4f4",
   "metadata": {},
   "source": [
    "# Baseline"
   ]
  },
  {
   "cell_type": "code",
   "execution_count": 270,
   "id": "a6e362a7",
   "metadata": {},
   "outputs": [
    {
     "name": "stdout",
     "output_type": "stream",
     "text": [
      "Train: 360\n",
      "Test: 90\n"
     ]
    }
   ],
   "source": [
    "# Preparing train data\n",
    "\n",
    "X = df.drop(['Year', 'Week', 'Index', 'Product', 'Sales_packs', 'Brand'], axis=1)\n",
    "X = X.apply(lambda col: col.str.replace(\",\", \".\").astype('float') if col.dtype == 'object' else col, \n",
    "        axis=0) # conversion to number format\n",
    "X.fillna(0, inplace=True)\n",
    "\n",
    "y = df['Sales_packs'].str.replace(\",\", \".\").astype('float')\n",
    "y.fillna(0, inplace=True)\n",
    "\n",
    "X_train, X_test, y_train, y_test = train_test_split(X,\n",
    "                                                    y,\n",
    "                                                    train_size=0.8,\n",
    "                                                    random_state=RANDOM_STATE)\n",
    "\n",
    "print(f\"Train: {len(X_train)}\")\n",
    "print(f\"Test: {len(X_test)}\")"
   ]
  },
  {
   "cell_type": "code",
   "execution_count": 271,
   "id": "b16ff3b2",
   "metadata": {},
   "outputs": [
    {
     "name": "stdout",
     "output_type": "stream",
     "text": [
      "Linear regression score: 0.9474851371250061\n",
      "Mean absolute error: 330.25025000119615\n",
      "Mean squared error: 475098.2582865516\n"
     ]
    }
   ],
   "source": [
    "# Build and evaluate the model\n",
    "\n",
    "linear_base_model = LinearRegression().fit(X_train, y_train)\n",
    "y_pred = linear_base_model.predict(X_test)\n",
    "\n",
    "print(f\"Linear regression score: {linear_base_model.score(X_test, y_test)}\")\n",
    "print(f\"Mean absolute error: {mean_absolute_error(y_test, y_pred)}\")\n",
    "print(f\"Mean squared error: {mean_squared_error(y_test, y_pred)}\")"
   ]
  },
  {
   "cell_type": "code",
   "execution_count": 272,
   "id": "b44d8212",
   "metadata": {},
   "outputs": [
    {
     "data": {
      "text/plain": [
       "<AxesSubplot:>"
      ]
     },
     "execution_count": 272,
     "metadata": {},
     "output_type": "execute_result"
    },
    {
     "data": {
      "image/png": "[encoded data removed]",
      "text/plain": [
       "<Figure size 432x288 with 1 Axes>"
      ]
     },
     "metadata": {
      "needs_background": "light"
     },
     "output_type": "display_data"
    }
   ],
   "source": [
    "# Visualization of results\n",
    "res = pd.DataFrame(data={'y_test': y_test, 'prediction': y_pred})\n",
    "res = res.sort_values(by=['y_test']).reset_index(drop=True)\n",
    "sns.lineplot(data=res)"
   ]
  },
  {
   "cell_type": "markdown",
   "id": "8a913893",
   "metadata": {},
   "source": [
    "# Feature importance"
   ]
  },
  {
   "cell_type": "code",
   "execution_count": 273,
   "id": "e6f32ab0",
   "metadata": {},
   "outputs": [
    {
     "data": {
      "text/plain": [
       "<AxesSubplot:xlabel='importance', ylabel='column'>"
      ]
     },
     "execution_count": 273,
     "metadata": {},
     "output_type": "execute_result"
    },
    {
     "data": {
      "image/png": "[encoded data removed]",
      "text/plain": [
       "<Figure size 432x288 with 1 Axes>"
      ]
     },
     "metadata": {
      "needs_background": "light"
     },
     "output_type": "display_data"
    }
   ],
   "source": [
    "# Create a dataframe with features and their importance\n",
    "feature_importances = pd.DataFrame({\n",
    "                                    'column':X_train.columns, \n",
    "                                    'importance':linear_base_model.coef_\n",
    "                                    })\n",
    "feature_importances\n",
    "sns.barplot(x=feature_importances['importance'], y=feature_importances['column'])"
   ]
  },
  {
   "cell_type": "markdown",
   "id": "e00ffc6f",
   "metadata": {},
   "source": [
    "#### We see that penetration, pricer_per_pack, SOV have the greatest influence"
   ]
  },
  {
   "cell_type": "markdown",
   "id": "b6c8f25f",
   "metadata": {},
   "source": [
    "# Data cleansing"
   ]
  },
  {
   "cell_type": "code",
   "execution_count": 290,
   "id": "1f131b19",
   "metadata": {},
   "outputs": [
    {
     "name": "stdout",
     "output_type": "stream",
     "text": [
      "<class 'pandas.core.frame.DataFrame'>\n",
      "Int64Index: 438 entries, 3 to 6487\n",
      "Data columns (total 13 columns):\n",
      " #   Column               Non-Null Count  Dtype \n",
      "---  ------               --------------  ----- \n",
      " 0   Year                 438 non-null    int64 \n",
      " 1   Week                 438 non-null    int64 \n",
      " 2   Index                438 non-null    int64 \n",
      " 3   Product              438 non-null    object\n",
      " 4   Sales_packs          438 non-null    object\n",
      " 5   Sales_UAH            438 non-null    object\n",
      " 6   Penetration          438 non-null    object\n",
      " 7   Pricer_per_pack      438 non-null    object\n",
      " 8   Brand                438 non-null    object\n",
      " 9   Internet_insertions  438 non-null    int64 \n",
      " 10  TV_TRP               438 non-null    object\n",
      " 11  SOV, %               438 non-null    object\n",
      " 12  TRP_category         438 non-null    object\n",
      "dtypes: int64(4), object(9)\n",
      "memory usage: 47.9+ KB\n"
     ]
    }
   ],
   "source": [
    "# Remove columns with small number of values \n",
    "df2 = df.drop(['Internet_impressions', 'Internet_real users', 'Aw_MMI'], axis=1).dropna()\n",
    "df2.info()"
   ]
  },
  {
   "cell_type": "code",
   "execution_count": 310,
   "id": "ba08e32a",
   "metadata": {},
   "outputs": [
    {
     "name": "stdout",
     "output_type": "stream",
     "text": [
      "Train: 350\n",
      "Test: 88\n"
     ]
    }
   ],
   "source": [
    "# Preparing second train data\n",
    "\n",
    "X2 = df2.drop(['Year', 'Week', 'Index', 'Product', 'Sales_packs', 'Brand'], axis=1)\n",
    "X2 = X2.apply(lambda col: col.str.replace(\",\", \".\").astype('float') if col.dtype == 'object' else col, \n",
    "        axis=0) # conversion to number format\n",
    "X2.fillna(0, inplace=True)\n",
    "\n",
    "y2 = df2['Sales_packs'].str.replace(\",\", \".\").astype('float')\n",
    "y2.fillna(0, inplace=True)\n",
    "\n",
    "X2_train, X2_test, y2_train, y2_test = train_test_split(X2,\n",
    "                                                    y2,\n",
    "                                                    train_size=0.8,\n",
    "                                                    random_state=RANDOM_STATE)\n",
    "\n",
    "# scaler = StandardScaler().fit(X2_train)\n",
    "# scaler2 = MinMaxScaler().fit(X2_train)\n",
    "# X2_train = scaler.transform(X2_train)\n",
    "# X2_test = scaler.transform(X2_test)\n",
    "\n",
    "print(f\"Train: {len(X2_train)}\")\n",
    "print(f\"Test: {len(X2_test)}\")"
   ]
  },
  {
   "cell_type": "code",
   "execution_count": 311,
   "id": "ffb3c874",
   "metadata": {},
   "outputs": [
    {
     "name": "stdout",
     "output_type": "stream",
     "text": [
      "Linear regression score: 0.9909790517983355\n",
      "Mean absolute error: 195.22832817036178\n",
      "Mean squared error: 80349.26217127299\n"
     ]
    }
   ],
   "source": [
    "# Build and evaluate the second model\n",
    "\n",
    "linear_model2 = LinearRegression().fit(X2_train, y2_train)\n",
    "y_pred2 = linear_model2.predict(X2_test)\n",
    "\n",
    "print(f\"Linear regression score: {linear_model2.score(X2_test, y2_test)}\")\n",
    "print(f\"Mean absolute error: {mean_absolute_error(y2_test, y_pred2)}\")\n",
    "print(f\"Mean squared error: {mean_squared_error(y2_test, y_pred2)}\")"
   ]
  },
  {
   "cell_type": "code",
   "execution_count": 312,
   "id": "090a6ae3",
   "metadata": {},
   "outputs": [
    {
     "data": {
      "text/plain": [
       "<AxesSubplot:xlabel='importance', ylabel='column'>"
      ]
     },
     "execution_count": 312,
     "metadata": {},
     "output_type": "execute_result"
    },
    {
     "data": {
      "image/png": "[encoded data removed]",
      "text/plain": [
       "<Figure size 432x288 with 1 Axes>"
      ]
     },
     "metadata": {
      "needs_background": "light"
     },
     "output_type": "display_data"
    }
   ],
   "source": [
    "# Create a dataframe with features and their importance\n",
    "feature_importances2 = pd.DataFrame({\n",
    "                                    'column':X2_train.columns, \n",
    "                                    'importance':linear_model2.coef_\n",
    "                                    })\n",
    "feature_importances2\n",
    "sns.barplot(x=feature_importances2['importance'], y=feature_importances2['column'])"
   ]
  },
  {
   "cell_type": "markdown",
   "id": "aaab5bc8",
   "metadata": {},
   "source": [
    "# Data aggregation"
   ]
  },
  {
   "cell_type": "code",
   "execution_count": 339,
   "id": "332b8c57",
   "metadata": {},
   "outputs": [
    {
     "data": {
      "text/html": [
       "<div>\n",
       "<style scoped>\n",
       "    .dataframe tbody tr th:only-of-type {\n",
       "        vertical-align: middle;\n",
       "    }\n",
       "\n",
       "    .dataframe tbody tr th {\n",
       "        vertical-align: top;\n",
       "    }\n",
       "\n",
       "    .dataframe thead th {\n",
       "        text-align: right;\n",
       "    }\n",
       "</style>\n",
       "<table border=\"1\" class=\"dataframe\">\n",
       "  <thead>\n",
       "    <tr style=\"text-align: right;\">\n",
       "      <th></th>\n",
       "      <th>Year</th>\n",
       "      <th>Month</th>\n",
       "      <th>Week</th>\n",
       "      <th>Index</th>\n",
       "      <th>IPN</th>\n",
       "      <th>Cons_Inflation</th>\n",
       "      <th>Real wage</th>\n",
       "      <th>UAH_to_USD</th>\n",
       "      <th>Temperature</th>\n",
       "      <th>COVID info-noise</th>\n",
       "      <th>google_requests_for brand</th>\n",
       "    </tr>\n",
       "  </thead>\n",
       "  <tbody>\n",
       "    <tr>\n",
       "      <th>0</th>\n",
       "      <td>2018</td>\n",
       "      <td>1</td>\n",
       "      <td>1</td>\n",
       "      <td>20181</td>\n",
       "      <td>NaN</td>\n",
       "      <td>NaN</td>\n",
       "      <td>NaN</td>\n",
       "      <td>NaN</td>\n",
       "      <td>NaN</td>\n",
       "      <td>0</td>\n",
       "      <td>9,5</td>\n",
       "    </tr>\n",
       "    <tr>\n",
       "      <th>1</th>\n",
       "      <td>2018</td>\n",
       "      <td>1</td>\n",
       "      <td>2</td>\n",
       "      <td>20182</td>\n",
       "      <td>NaN</td>\n",
       "      <td>NaN</td>\n",
       "      <td>NaN</td>\n",
       "      <td>NaN</td>\n",
       "      <td>NaN</td>\n",
       "      <td>0</td>\n",
       "      <td>11</td>\n",
       "    </tr>\n",
       "    <tr>\n",
       "      <th>2</th>\n",
       "      <td>2018</td>\n",
       "      <td>1</td>\n",
       "      <td>3</td>\n",
       "      <td>20183</td>\n",
       "      <td>59,5</td>\n",
       "      <td>101,5</td>\n",
       "      <td>86,6</td>\n",
       "      <td>28,43</td>\n",
       "      <td>-2,4</td>\n",
       "      <td>0</td>\n",
       "      <td>13,5</td>\n",
       "    </tr>\n",
       "    <tr>\n",
       "      <th>3</th>\n",
       "      <td>2018</td>\n",
       "      <td>1</td>\n",
       "      <td>4</td>\n",
       "      <td>20184</td>\n",
       "      <td>NaN</td>\n",
       "      <td>NaN</td>\n",
       "      <td>NaN</td>\n",
       "      <td>NaN</td>\n",
       "      <td>NaN</td>\n",
       "      <td>0</td>\n",
       "      <td>14,5</td>\n",
       "    </tr>\n",
       "    <tr>\n",
       "      <th>4</th>\n",
       "      <td>2018</td>\n",
       "      <td>2</td>\n",
       "      <td>5</td>\n",
       "      <td>20185</td>\n",
       "      <td>NaN</td>\n",
       "      <td>NaN</td>\n",
       "      <td>NaN</td>\n",
       "      <td>NaN</td>\n",
       "      <td>NaN</td>\n",
       "      <td>0</td>\n",
       "      <td>13,5</td>\n",
       "    </tr>\n",
       "  </tbody>\n",
       "</table>\n",
       "</div>"
      ],
      "text/plain": [
       "   Year  Month  Week  Index   IPN Cons_Inflation Real wage UAH_to_USD  \\\n",
       "0  2018      1     1  20181   NaN            NaN       NaN        NaN   \n",
       "1  2018      1     2  20182   NaN            NaN       NaN        NaN   \n",
       "2  2018      1     3  20183  59,5          101,5      86,6      28,43   \n",
       "3  2018      1     4  20184   NaN            NaN       NaN        NaN   \n",
       "4  2018      2     5  20185   NaN            NaN       NaN        NaN   \n",
       "\n",
       "  Temperature COVID info-noise google_requests_for brand  \n",
       "0         NaN                0                       9,5  \n",
       "1         NaN                0                        11  \n",
       "2        -2,4                0                      13,5  \n",
       "3         NaN                0                      14,5  \n",
       "4         NaN                0                      13,5  "
      ]
     },
     "execution_count": 339,
     "metadata": {},
     "output_type": "execute_result"
    }
   ],
   "source": [
    "df_general_data = pd.read_csv('data/general_data.csv', sep=';', thousands='.')\n",
    "df_general_data.head()"
   ]
  },
  {
   "cell_type": "code",
   "execution_count": 323,
   "id": "a1a582fc",
   "metadata": {},
   "outputs": [
    {
     "data": {
      "text/plain": [
       "148"
      ]
     },
     "execution_count": 323,
     "metadata": {},
     "output_type": "execute_result"
    }
   ],
   "source": [
    "len(df_general_data)"
   ]
  },
  {
   "cell_type": "code",
   "execution_count": 343,
   "id": "033b3362",
   "metadata": {},
   "outputs": [
    {
     "name": "stdout",
     "output_type": "stream",
     "text": [
      "<class 'pandas.core.frame.DataFrame'>\n",
      "Int64Index: 444 entries, 0 to 443\n",
      "Data columns (total 26 columns):\n",
      " #   Column                     Non-Null Count  Dtype  \n",
      "---  ------                     --------------  -----  \n",
      " 0   Year_x                     444 non-null    int64  \n",
      " 1   Week_x                     444 non-null    int64  \n",
      " 2   Index                      444 non-null    int64  \n",
      " 3   Product                    444 non-null    object \n",
      " 4   Sales_packs                444 non-null    object \n",
      " 5   Sales_UAH                  444 non-null    object \n",
      " 6   Penetration                444 non-null    object \n",
      " 7   Pricer_per_pack            444 non-null    object \n",
      " 8   Brand                      444 non-null    object \n",
      " 9   Aw_MMI                     30 non-null     object \n",
      " 10  Internet_insertions        444 non-null    int64  \n",
      " 11  Internet_impressions       0 non-null      float64\n",
      " 12  Internet_real users        0 non-null      float64\n",
      " 13  TV_TRP                     444 non-null    object \n",
      " 14  SOV, %                     438 non-null    object \n",
      " 15  TRP_category               444 non-null    object \n",
      " 16  Year_y                     444 non-null    int64  \n",
      " 17  Month                      444 non-null    int64  \n",
      " 18  Week_y                     444 non-null    int64  \n",
      " 19  IPN                        102 non-null    object \n",
      " 20  Cons_Inflation             102 non-null    object \n",
      " 21  Real wage                  102 non-null    object \n",
      " 22  UAH_to_USD                 102 non-null    object \n",
      " 23  Temperature                102 non-null    object \n",
      " 24  COVID info-noise           444 non-null    object \n",
      " 25  google_requests_for brand  444 non-null    object \n",
      "dtypes: float64(2), int64(7), object(17)\n",
      "memory usage: 93.7+ KB\n"
     ]
    }
   ],
   "source": [
    "df_agg = df.merge(df_general_data, left_on='Index', right_on='Index')\n",
    "df_agg.info()"
   ]
  },
  {
   "cell_type": "code",
   "execution_count": 364,
   "id": "e2d75f74",
   "metadata": {},
   "outputs": [
    {
     "name": "stdout",
     "output_type": "stream",
     "text": [
      "Train: 355\n",
      "Test: 89\n"
     ]
    }
   ],
   "source": [
    "# Preparing train data from aggregated data\n",
    "\n",
    "\n",
    "columns_to_remove = ['Internet_impressions', 'Internet_real users', 'Aw_MMI', 'Year_x', 'Year_y', 'Week_x', 'Week_y', 'Month', 'Index', 'Product', 'Sales_packs', 'Brand']\n",
    "X_agg = df_agg.drop(columns_to_remove, axis=1)\n",
    "\n",
    "X_agg = X_agg.apply(lambda col: col.str.replace(\",\", \".\").astype('float') if col.dtype == 'object' else col, \n",
    "        axis=0)\n",
    "X_agg.fillna(0, inplace=True)\n",
    "\n",
    "y_agg = df_agg['Sales_packs'].str.replace(\",\", \".\").astype('float')\n",
    "y_agg.fillna(0, inplace=True)\n",
    "\n",
    "X_agg_train, X_agg_test, y_agg_train, y_agg_test = train_test_split(X_agg,\n",
    "                                                    y_agg,\n",
    "                                                    train_size=0.8,\n",
    "                                                    random_state=RANDOM_STATE)\n",
    "\n",
    "print(f\"Train: {len(X_agg_train)}\")\n",
    "print(f\"Test: {len(X_agg_test)}\")"
   ]
  },
  {
   "cell_type": "code",
   "execution_count": 366,
   "id": "a7c52377",
   "metadata": {},
   "outputs": [
    {
     "name": "stdout",
     "output_type": "stream",
     "text": [
      "Linear regression score: 0.9902798842963285\n",
      "Mean absolute error: 182.48722815799456\n",
      "Mean squared error: 74044.92835996707\n"
     ]
    },
    {
     "data": {
      "text/plain": [
       "<AxesSubplot:xlabel='importance', ylabel='column'>"
      ]
     },
     "execution_count": 366,
     "metadata": {},
     "output_type": "execute_result"
    },
    {
     "data": {
      "image/png": "[encoded data removed]",
      "text/plain": [
       "<Figure size 432x288 with 1 Axes>"
      ]
     },
     "metadata": {
      "needs_background": "light"
     },
     "output_type": "display_data"
    }
   ],
   "source": [
    "# Build and evaluate the second model\n",
    "\n",
    "linear_model3 = LinearRegression().fit(X_agg_train, y_agg_train)\n",
    "y_pred3 = linear_model3.predict(X_agg_test)\n",
    "\n",
    "print(f\"Linear regression score: {linear_model3.score(X_agg_test, y_agg_test)}\")\n",
    "print(f\"Mean absolute error: {mean_absolute_error(y_agg_test, y_pred3)}\")\n",
    "print(f\"Mean squared error: {mean_squared_error(y_agg_test, y_pred3)}\")\n",
    "\n",
    "# Create a dataframe with features and their importance\n",
    "feature_importances3 = pd.DataFrame({\n",
    "                                    'column':X_agg_train.columns, \n",
    "                                    'importance':linear_model3.coef_\n",
    "                                    })\n",
    "sns.barplot(x=feature_importances3['importance'], y=feature_importances3['column'])"
   ]
  },
  {
   "cell_type": "markdown",
   "id": "aebd806d",
   "metadata": {},
   "source": [
    "### We observe that the SOV value continues to have a big impact, however, the information noise from COVID-19 worsens sales and has a greater impact than SOV. The dollar exchange rate also has a negative impact."
   ]
  },
  {
   "cell_type": "markdown",
   "id": "32c40958",
   "metadata": {},
   "source": [
    "### The main recommendation for increasing sales in this case would be to increase advertising activity while reducing the information noise about COVID-19"
   ]
  }
 ],
 "metadata": {
  "kernelspec": {
   "display_name": "Python 3",
   "language": "python",
   "name": "python3"
  },
  "language_info": {
   "codemirror_mode": {
    "name": "ipython",
    "version": 3
   },
   "file_extension": ".py",
   "mimetype": "text/x-python",
   "name": "python",
   "nbconvert_exporter": "python",
   "pygments_lexer": "ipython3",
   "version": "3.7.10"
  }
 },
 "nbformat": 4,
 "nbformat_minor": 5
}
